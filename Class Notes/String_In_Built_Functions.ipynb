{
  "nbformat": 4,
  "nbformat_minor": 0,
  "metadata": {
    "colab": {
      "provenance": [],
      "authorship_tag": "ABX9TyMCL3NuCiZSDu46Yr1GqPAu",
      "include_colab_link": true
    },
    "kernelspec": {
      "name": "python3",
      "display_name": "Python 3"
    },
    "language_info": {
      "name": "python"
    }
  },
  "cells": [
    {
      "cell_type": "markdown",
      "metadata": {
        "id": "view-in-github",
        "colab_type": "text"
      },
      "source": [
        "<a href=\"https://colab.research.google.com/github/rohitdemo12/DataScienceBootCamp/blob/main/Class%20Notes/String_In_Built_Functions.ipynb\" target=\"_parent\"><img src=\"https://colab.research.google.com/assets/colab-badge.svg\" alt=\"Open In Colab\"/></a>"
      ]
    },
    {
      "cell_type": "code",
      "source": [
        "# Functions jumped\n",
        "# 1 format map\n",
        "# 2 expandtabs\n",
        "# 'isascii'"
      ],
      "metadata": {
        "id": "D9En0TqChYK3"
      },
      "execution_count": null,
      "outputs": []
    },
    {
      "cell_type": "code",
      "execution_count": 1,
      "metadata": {
        "colab": {
          "base_uri": "https://localhost:8080/"
        },
        "id": "6Hlsk7WgRywI",
        "outputId": "c531f564-a925-4993-f894-e2b12baf4fad"
      },
      "outputs": [
        {
          "output_type": "stream",
          "name": "stdout",
          "text": [
            "HloWrd\n"
          ]
        }
      ],
      "source": [
        "temp_str=\"Hello World\"\n",
        "print(temp_str[::2])\n",
        "# string slicing [start:stop:step]"
      ]
    },
    {
      "cell_type": "code",
      "source": [
        "dir(temp_str)"
      ],
      "metadata": {
        "colab": {
          "base_uri": "https://localhost:8080/"
        },
        "id": "VOIq9UVRSh-K",
        "outputId": "e375693a-f3b1-4b6d-b8fe-bcf43ba9ba56"
      },
      "execution_count": 2,
      "outputs": [
        {
          "output_type": "execute_result",
          "data": {
            "text/plain": [
              "['__add__',\n",
              " '__class__',\n",
              " '__contains__',\n",
              " '__delattr__',\n",
              " '__dir__',\n",
              " '__doc__',\n",
              " '__eq__',\n",
              " '__format__',\n",
              " '__ge__',\n",
              " '__getattribute__',\n",
              " '__getitem__',\n",
              " '__getnewargs__',\n",
              " '__gt__',\n",
              " '__hash__',\n",
              " '__init__',\n",
              " '__init_subclass__',\n",
              " '__iter__',\n",
              " '__le__',\n",
              " '__len__',\n",
              " '__lt__',\n",
              " '__mod__',\n",
              " '__mul__',\n",
              " '__ne__',\n",
              " '__new__',\n",
              " '__reduce__',\n",
              " '__reduce_ex__',\n",
              " '__repr__',\n",
              " '__rmod__',\n",
              " '__rmul__',\n",
              " '__setattr__',\n",
              " '__sizeof__',\n",
              " '__str__',\n",
              " '__subclasshook__',\n",
              " 'capitalize',\n",
              " 'casefold',\n",
              " 'center',\n",
              " 'count',\n",
              " 'encode',\n",
              " 'endswith',\n",
              " 'expandtabs',\n",
              " 'find',\n",
              " 'format',\n",
              " 'format_map',\n",
              " 'index',\n",
              " 'isalnum',\n",
              " 'isalpha',\n",
              " 'isascii',\n",
              " 'isdecimal',\n",
              " 'isdigit',\n",
              " 'isidentifier',\n",
              " 'islower',\n",
              " 'isnumeric',\n",
              " 'isprintable',\n",
              " 'isspace',\n",
              " 'istitle',\n",
              " 'isupper',\n",
              " 'join',\n",
              " 'ljust',\n",
              " 'lower',\n",
              " 'lstrip',\n",
              " 'maketrans',\n",
              " 'partition',\n",
              " 'removeprefix',\n",
              " 'removesuffix',\n",
              " 'replace',\n",
              " 'rfind',\n",
              " 'rindex',\n",
              " 'rjust',\n",
              " 'rpartition',\n",
              " 'rsplit',\n",
              " 'rstrip',\n",
              " 'split',\n",
              " 'splitlines',\n",
              " 'startswith',\n",
              " 'strip',\n",
              " 'swapcase',\n",
              " 'title',\n",
              " 'translate',\n",
              " 'upper',\n",
              " 'zfill']"
            ]
          },
          "metadata": {},
          "execution_count": 2
        }
      ]
    },
    {
      "cell_type": "code",
      "source": [
        "# Takes 1st character of string to upper case\n",
        "temp_str=\"hello world\"\n",
        "print(temp_str.capitalize())"
      ],
      "metadata": {
        "colab": {
          "base_uri": "https://localhost:8080/"
        },
        "id": "PCvCDQ7MTKZL",
        "outputId": "89cd4232-1799-448d-d7b4-8feb72d77b1d"
      },
      "execution_count": 3,
      "outputs": [
        {
          "output_type": "stream",
          "name": "stdout",
          "text": [
            "Hello world\n"
          ]
        }
      ]
    },
    {
      "cell_type": "code",
      "source": [
        "# Returns a String where all characters are lowercase\n",
        "temp_str=\"HeLLo WorLD\"\n",
        "print(temp_str.casefold())"
      ],
      "metadata": {
        "colab": {
          "base_uri": "https://localhost:8080/"
        },
        "id": "P24295SCTojR",
        "outputId": "f6ab0ddc-d8f9-48b3-b254-8d8bf034c67b"
      },
      "execution_count": 4,
      "outputs": [
        {
          "output_type": "stream",
          "name": "stdout",
          "text": [
            "hello world\n"
          ]
        }
      ]
    },
    {
      "cell_type": "code",
      "source": [
        "# Increases Length of string by adding whatever character is mentioned if not by default fills by space\n",
        "temp_str=\"HeLLo WorLD\"\n",
        "print(temp_str.center(14,\"1\"))"
      ],
      "metadata": {
        "colab": {
          "base_uri": "https://localhost:8080/"
        },
        "id": "E7nslQw3Ucxa",
        "outputId": "c9307aba-e605-4c8e-d10e-7b79c980bb1f"
      },
      "execution_count": 16,
      "outputs": [
        {
          "output_type": "stream",
          "name": "stdout",
          "text": [
            "1HeLLo WorLD11\n"
          ]
        }
      ]
    },
    {
      "cell_type": "code",
      "source": [
        "# Returns how many times the substring appears in the given range by default picks full string\n",
        "# Count function is case senstive\n",
        "temp_str=\"HeLLo WorLD how is it going? Hello all good\"\n",
        "print(temp_str)\n",
        "print(temp_str.count(\"Hello\"))\n",
        "print(temp_str.count(\"hello\"))\n",
        "# How to give range\n",
        "# count(value,start,end) # start and end are optional if not given takes full string\n",
        "temp_str_2= \"hello world how is it going? ghellog all good hello\"\n",
        "print(temp_str_2.count(\"hello\",2))"
      ],
      "metadata": {
        "colab": {
          "base_uri": "https://localhost:8080/"
        },
        "id": "tbFkeW5mWWpx",
        "outputId": "47cc609e-3111-41a7-a350-e4ca95923687"
      },
      "execution_count": 42,
      "outputs": [
        {
          "output_type": "stream",
          "name": "stdout",
          "text": [
            "HeLLo WorLD how is it going? Hello all good\n",
            "1\n",
            "0\n",
            "3\n"
          ]
        }
      ]
    },
    {
      "cell_type": "code",
      "source": [
        "# returns True and False on the basis of Suffix passed.\n",
        "temp_str=\"HeLLo WorLD how is it going? Hello all good!\"\n",
        "# endswith(value,start,end)\n",
        "print(temp_str.endswith(\"d!\"))\n",
        "print(temp_str.endswith(\"Lo\"))\n",
        "print(temp_str.endswith(\"good\",0,len(temp_str)-1))\n",
        "print(len(temp_str))"
      ],
      "metadata": {
        "colab": {
          "base_uri": "https://localhost:8080/"
        },
        "id": "h4nreFk0bNWw",
        "outputId": "5dd76bb3-ab22-4521-8628-8ec5d6fd95fa"
      },
      "execution_count": 55,
      "outputs": [
        {
          "output_type": "stream",
          "name": "stdout",
          "text": [
            "True\n",
            "False\n",
            "True\n",
            "44\n"
          ]
        }
      ]
    },
    {
      "cell_type": "code",
      "source": [
        "# returns lowest index of the substring if found else returns -1\n",
        "temp_str=\"HeLLo WorLD how is it going? Hello all good! how are you!\"\n",
        "print(temp_str.find(\"howhfdhasdhad\"))\n",
        "print(temp_str.find(\"how\"))"
      ],
      "metadata": {
        "colab": {
          "base_uri": "https://localhost:8080/"
        },
        "id": "EQUSfwStdAVo",
        "outputId": "009730f5-cb29-48a3-d58a-a855190db4f7"
      },
      "execution_count": 58,
      "outputs": [
        {
          "output_type": "stream",
          "name": "stdout",
          "text": [
            "-1\n",
            "12\n"
          ]
        }
      ]
    },
    {
      "cell_type": "code",
      "source": [
        "temp_str=\"HeLLo my name is {fname}, I am a {position}!\"\n",
        "print(temp_str)\n",
        "print(temp_str.format(fname=\"Rohit\",position=\"Data Scientist\"))\n",
        "temp_str1=\"HeLLo my name is {0}, I am a {1}!\"\n",
        "print(temp_str1.format(\"Data Scientist\",\"Rohit\"))"
      ],
      "metadata": {
        "colab": {
          "base_uri": "https://localhost:8080/"
        },
        "id": "StadQ-kabD1I",
        "outputId": "d5d83b44-fb5c-4d61-9202-c6d9fa9aa5ae"
      },
      "execution_count": 65,
      "outputs": [
        {
          "output_type": "stream",
          "name": "stdout",
          "text": [
            "HeLLo my name is {fname}, I am a {position}!\n",
            "HeLLo my name is Rohit, I am a Data Scientist!\n",
            "HeLLo my name is Data Scientist, I am a Rohit!\n"
          ]
        }
      ]
    },
    {
      "cell_type": "code",
      "source": [
        "# replica of find function but this returnds error if nothing found\n",
        "temp_str=\"HeLLo WorLD how is it going? Hello all good! how are you!\"\n",
        "temp_str.index(\"how111\")"
      ],
      "metadata": {
        "colab": {
          "base_uri": "https://localhost:8080/",
          "height": 211
        },
        "id": "7OyNjCingQZf",
        "outputId": "093c23c6-b192-4e80-ef63-77974bff87d3"
      },
      "execution_count": 67,
      "outputs": [
        {
          "output_type": "error",
          "ename": "ValueError",
          "evalue": "ignored",
          "traceback": [
            "\u001b[0;31m---------------------------------------------------------------------------\u001b[0m",
            "\u001b[0;31mValueError\u001b[0m                                Traceback (most recent call last)",
            "\u001b[0;32m<ipython-input-67-98ce80daacc9>\u001b[0m in \u001b[0;36m<cell line: 3>\u001b[0;34m()\u001b[0m\n\u001b[1;32m      1\u001b[0m \u001b[0;31m# replica of find function but this returnds error if nothing found\u001b[0m\u001b[0;34m\u001b[0m\u001b[0;34m\u001b[0m\u001b[0m\n\u001b[1;32m      2\u001b[0m \u001b[0mtemp_str\u001b[0m\u001b[0;34m=\u001b[0m\u001b[0;34m\"HeLLo WorLD how is it going? Hello all good! how are you!\"\u001b[0m\u001b[0;34m\u001b[0m\u001b[0;34m\u001b[0m\u001b[0m\n\u001b[0;32m----> 3\u001b[0;31m \u001b[0mtemp_str\u001b[0m\u001b[0;34m.\u001b[0m\u001b[0mindex\u001b[0m\u001b[0;34m(\u001b[0m\u001b[0;34m\"how111\"\u001b[0m\u001b[0;34m)\u001b[0m\u001b[0;34m\u001b[0m\u001b[0;34m\u001b[0m\u001b[0m\n\u001b[0m",
            "\u001b[0;31mValueError\u001b[0m: substring not found"
          ]
        }
      ]
    },
    {
      "cell_type": "code",
      "source": [
        "# Returns True if only numbers and alphabets are present else returns false\n",
        "temp_str=\"HeLLo WorLD how is it going? Hello all good! how are you!\"\n",
        "temp_str1=\"HelloWorld123313\"\n",
        "print(temp_str.isalnum())\n",
        "print(temp_str1.isalnum())\n",
        "print(temp_str[0:5].isalnum())"
      ],
      "metadata": {
        "colab": {
          "base_uri": "https://localhost:8080/"
        },
        "id": "ZZSGcaosh-4G",
        "outputId": "4fbf4a79-8480-4bc5-dc9b-71c37e379360"
      },
      "execution_count": 74,
      "outputs": [
        {
          "output_type": "stream",
          "name": "stdout",
          "text": [
            "False\n",
            "True\n",
            "True\n"
          ]
        }
      ]
    },
    {
      "cell_type": "code",
      "source": [
        "# Returns True if only alphabets are present else returns false\n",
        "temp_str=\"HeLLoWorLD\"\n",
        "temp_str1=\"HeLLo WorLD\"\n",
        "temp_str2=\"HeLLoWorLD1221212\"\n",
        "print(temp_str.isalpha())\n",
        "print(temp_str1.isalpha())\n",
        "print(temp_str2.isalpha())"
      ],
      "metadata": {
        "colab": {
          "base_uri": "https://localhost:8080/"
        },
        "id": "FhRbuAIsjP4G",
        "outputId": "fc7222fe-8f73-4e38-caa6-dc378c8b3b4b"
      },
      "execution_count": 77,
      "outputs": [
        {
          "output_type": "stream",
          "name": "stdout",
          "text": [
            "True\n",
            "False\n",
            "False\n"
          ]
        }
      ]
    },
    {
      "cell_type": "code",
      "source": [
        "# returns true if only numbers between 0-9 else returns false\n",
        "temp_str=\"HeLLo WorLD\"\n",
        "print(temp_str.isdecimal())\n",
        "temp_str1=\"01234354554353\"\n",
        "print(temp_str1.isdecimal())\n",
        "temp_str2=\"  1234354554353  \"\n",
        "print(temp_str2.isdecimal())\n",
        "unicode_0=\"\\u0030\"\n",
        "print(unicode_0.isdecimal())"
      ],
      "metadata": {
        "colab": {
          "base_uri": "https://localhost:8080/"
        },
        "id": "5to1wzHmj3UX",
        "outputId": "64e353e8-5a1d-4cf7-9235-f0136da87348"
      },
      "execution_count": 86,
      "outputs": [
        {
          "output_type": "stream",
          "name": "stdout",
          "text": [
            "False\n",
            "True\n",
            "False\n",
            "False\n"
          ]
        }
      ]
    },
    {
      "cell_type": "code",
      "source": [
        "temp_str=\"01234354554353\"\n",
        "temp_str1=\"HeLLo WorLD\"\n",
        "unicode_0=\"\\u0030\"\n",
        "super_string='2'\n",
        "print(temp_str.isdigit())\n",
        "print(temp_str1.isdigit())\n",
        "print(unicode_0.isdigit())"
      ],
      "metadata": {
        "colab": {
          "base_uri": "https://localhost:8080/"
        },
        "id": "pUQQ2Bi4ktkA",
        "outputId": "7e01f074-625f-4270-b57e-4324dd7e9e27"
      },
      "execution_count": 87,
      "outputs": [
        {
          "output_type": "stream",
          "name": "stdout",
          "text": [
            "True\n",
            "False\n",
            "True\n"
          ]
        }
      ]
    }
  ]
}